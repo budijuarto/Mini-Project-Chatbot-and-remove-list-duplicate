{
  "nbformat": 4,
  "nbformat_minor": 0,
  "metadata": {
    "colab": {
      "name": "Duplicate and chatbot.ipynb",
      "provenance": []
    },
    "kernelspec": {
      "name": "python3",
      "display_name": "Python 3"
    }
  },
  "cells": [
    {
      "cell_type": "markdown",
      "metadata": {
        "id": "cTmicxy5F4M7",
        "colab_type": "text"
      },
      "source": [
        "# Mini-Project 1 : Remove Duplikat List"
      ]
    },
    {
      "cell_type": "code",
      "metadata": {
        "id": "fpMXp6x-fXkM",
        "colab_type": "code",
        "outputId": "a2e5d1b6-dd32-45ab-b6f1-757c4876900b",
        "colab": {
          "base_uri": "https://localhost:8080/",
          "height": 52
        }
      },
      "source": [
        "# solusi tanpa menggunakan set\n",
        "def remove_duplicate(obj_list):\n",
        "    obj_list = list(dict.fromkeys(obj_list))\n",
        "    return obj_list\n",
        "\n",
        "# solusi dengan menggunakan set\n",
        "def remove_duplicate_with_set(obj_list):\n",
        "    obj_list = list(set(dict.fromkeys(obj_list)))\n",
        "    return obj_list\n",
        "\n",
        "obj_list = [1, 2, 4, 6, 2, 1, 4, 5, 7, 8, 6]\n",
        "print(remove_duplicate(obj_list))\n",
        "print(remove_duplicate_with_set(obj_list))\n"
      ],
      "execution_count": 0,
      "outputs": [
        {
          "output_type": "stream",
          "text": [
            "[1, 2, 4, 6, 5, 7, 8]\n",
            "[1, 2, 4, 5, 6, 7, 8]\n"
          ],
          "name": "stdout"
        }
      ]
    },
    {
      "cell_type": "markdown",
      "metadata": {
        "id": "rlZzpAbY72re",
        "colab_type": "text"
      },
      "source": [
        "output :\n",
        "[1, 2, 4, 6, 5, 7, 8]\n",
        "[1, 2, 4, 5, 6, 7, 8]"
      ]
    },
    {
      "cell_type": "markdown",
      "metadata": {
        "id": "Nver5oEoF9tK",
        "colab_type": "text"
      },
      "source": [
        "# Mini Project 2 : Membuat ChatBot Sederhana"
      ]
    },
    {
      "cell_type": "code",
      "metadata": {
        "id": "TYgA84GwGAh9",
        "colab_type": "code",
        "outputId": "dc149fe7-2442-40b6-fcd2-abaee48560d6",
        "colab": {
          "base_uri": "https://localhost:8080/",
          "height": 87
        }
      },
      "source": [
        "# import library\n",
        "from datetime import datetime\n",
        "import random\n",
        "\n",
        "# ganti dengan sebuah nama\n",
        "nama  = \"Budi Juarto\"\n",
        "# variabel tanggal\n",
        "tanggal = datetime.now().day\n",
        "# default variabel untuk pertanyaan tidak diketahui\n",
        "default = \"maaf, aku tidak tahu jawaban dari pertanyaanmu\"\n",
        "\n",
        "# Membuat objek dictionary berisi berbagai opsi jawaban\n",
        "\n",
        "# list jawaban untuk pertanyaan tentang nama\n",
        "jawaban_nama = [\n",
        "      \"nama saya  {0}\".format(nama),\n",
        "      \"orang-orang memanggil saya {0}\".format(nama),\n",
        "      \"panggil saja saya {0}\".format(nama)\n",
        "   ]\n",
        "\n",
        "# list jawaban untuk pertanyaan tentang tanggal\n",
        "jawaban_tanggal = [\n",
        "      \"hari ini tanggal {0}\".format(tanggal),\n",
        "      \"ya ampun masa tidak tahu, hari ini tanggal\".format(tanggal)\n",
        "    ]\n",
        "\n",
        "# opsi pertanyaan yang bisa dijawab\n",
        "pertanyaan = {\n",
        "  \"nama kamu siapa?\": jawaban_nama,\n",
        "  \"kamu siapa?\" : jawaban_nama,\n",
        "  \"tanggal berapa hari ini?\": jawaban_tanggal,\n",
        "  \"hari ini tanggal berapa?\" : jawaban_tanggal,\n",
        "  \"default\": default\n",
        "}\n",
        "\n",
        "# list jawaban untuk sebuah argument selain pertanyaan\n",
        "statement =  [\n",
        "                  'ceritakan lebih banyak!',\n",
        "                  'kenapa kamu berpikir begitu?',\n",
        "                  'sudah berapa lama kamu merasa seperti ini?',\n",
        "                  'Itu sangat menarik!',\n",
        "                  'oh wow!',\n",
        "                  ':)'\n",
        "              ]\n",
        "\n",
        "# respon keseluruhan\n",
        "responses = {\n",
        "    'pertanyaan' : pertanyaan,\n",
        "    'statement' : statement\n",
        "}\n",
        "#------\n",
        "             \n",
        "# ayo buat chatbotmu\n",
        "def chatbot(message):\n",
        "    str1 = \" \" \n",
        "    #buat pertanyaan atau pernyataan\n",
        "    if \"?\" in message:\n",
        "      #buat looping\n",
        "      for i in responses['pertanyaan'] :\n",
        "        if message == i:\n",
        "          return str1.join(responses['pertanyaan'][i])\n",
        "      else:\n",
        "        return responses['pertanyaan']['default']\n",
        "        \n",
        "        \n",
        "    else:\n",
        "      return random.choice(responses['statement'])\n",
        "    \n",
        "    \n",
        "print(chatbot('Mau bermain bersamaku?'))\n",
        "print(chatbot('Selamat Pagi'))\n",
        "print(chatbot('nama kamu siapa?'))\n",
        "print(chatbot('hari ini tanggal berapa?'))\n",
        "\n"
      ],
      "execution_count": 0,
      "outputs": [
        {
          "output_type": "stream",
          "text": [
            "maaf, aku tidak tahu jawaban dari pertanyaanmu\n",
            "Itu sangat menarik!\n",
            "nama saya  Budi Juarto orang-orang memanggil saya Budi Juarto panggil saja saya Budi Juarto\n",
            "hari ini tanggal 25 ya ampun masa tidak tahu, hari ini tanggal\n"
          ],
          "name": "stdout"
        }
      ]
    },
    {
      "cell_type": "markdown",
      "metadata": {
        "id": "0jy-WpLjGNbU",
        "colab_type": "text"
      },
      "source": [
        ""
      ]
    }
  ]
}